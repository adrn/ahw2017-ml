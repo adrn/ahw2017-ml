{
 "cells": [
  {
   "cell_type": "markdown",
   "metadata": {},
   "source": [
    "# SDSS/BOSS spectroscopic data\n",
    "\n",
    "The SDSS dataset contains 100,000 spectra and catalog data for the same sources from the BOSS survey. \n",
    "\n",
    "### Spectra: `spPlate-merged.hdf5`\n",
    "\n",
    "All of the spectra have the same rest-frame wavelength grid (things are redshifted). They have 4603 pixels, and we provide the wavelength grid, flux values, and inverse-variance (uncertainties) for each source.\n",
    "\n",
    "### Spectroscopic catalog info: `specObj-merged.hdf5`\n",
    "\n",
    "We provide a row-matched table of spectroscopic catalog information derived from the spectra by the SDSS pipeline. This is provided as a table stored in an HDF5 file.\n",
    "\n",
    "### Photometric catalog info: `photoPosPlate-merged.hdf5`\n",
    "\n",
    "We also provide a row-matched table of photometric catalog information from the SDSS imaging and derived by the SDSS photometric pipeline. This is provided as a table stored in an HDF5 file."
   ]
  },
  {
   "cell_type": "code",
   "execution_count": null,
   "metadata": {
    "collapsed": true
   },
   "outputs": [],
   "source": [
    "from os import path\n",
    "\n",
    "from astropy.table import Table\n",
    "import h5py\n",
    "import matplotlib.pyplot as plt\n",
    "plt.style.use('notebook.mplstyle')\n",
    "%matplotlib inline\n",
    "import numpy as np"
   ]
  },
  {
   "cell_type": "code",
   "execution_count": null,
   "metadata": {
    "collapsed": true
   },
   "outputs": [],
   "source": [
    "data_path = '../data/'"
   ]
  },
  {
   "cell_type": "markdown",
   "metadata": {},
   "source": [
    "## Spectra\n",
    "\n",
    "The spectra are stored in 3 datasets in the `spPlate-merged.hdf5` file:"
   ]
  },
  {
   "cell_type": "code",
   "execution_count": null,
   "metadata": {},
   "outputs": [],
   "source": [
    "with h5py.File(path.join(data_path, 'sdss', 'spPlate-merged.hdf5')) as f:\n",
    "    print(list(f.keys()))\n",
    "    \n",
    "    print(f['flux'].shape)"
   ]
  },
  {
   "cell_type": "markdown",
   "metadata": {},
   "source": [
    "The spectral flux for all objects is stored in the `'flux'` dataset as a single 2D array. There are 100000 spectra, each with 4603 pixels.\n",
    "\n",
    "The inverse-variance (uncertainty) for the flux is stored in the `'ivar'` dataset, also as a single 2D array, with the same shape as the flux array. The inverse-variance array will be 0 where the flux data are bad.\n",
    "\n",
    "The wavelength array is stored as a 1D array in the `'wave'` dataset: the wavelength grid is the same for all spectra.\n",
    "\n",
    "**Example**: Let's read a random spectrum (at index 71924), and plot the wavelength, flux, and inverse-variance:"
   ]
  },
  {
   "cell_type": "code",
   "execution_count": null,
   "metadata": {},
   "outputs": [],
   "source": [
    "with h5py.File(path.join(data_path, 'sdss', 'spPlate-merged.hdf5')) as f:\n",
    "    wave = f['wave'][:]\n",
    "    flux = f['flux'][71924]\n",
    "    ivar = f['ivar'][71924]"
   ]
  },
  {
   "cell_type": "code",
   "execution_count": null,
   "metadata": {},
   "outputs": [],
   "source": [
    "plt.figure(figsize=(12,4))\n",
    "\n",
    "plt.plot(wave, flux, marker='None', linewidth=1,\n",
    "         linestyle='-', drawstyle='steps-mid')\n",
    "plt.plot(wave, 1/np.sqrt(ivar), marker='None', linestyle='-', \n",
    "         drawstyle='steps-mid', alpha=0.75, linewidth=1)\n",
    "\n",
    "plt.xlim(wave.min(), wave.max())\n",
    "plt.xlabel(r'wavelength [${\\rm \\AA}$]')"
   ]
  },
  {
   "cell_type": "markdown",
   "metadata": {},
   "source": [
    "## Spectroscopic catalog data"
   ]
  },
  {
   "cell_type": "code",
   "execution_count": null,
   "metadata": {},
   "outputs": [],
   "source": [
    "specObj = Table.read(path.join(data_path, 'sdss', 'specObj-merged.hdf5'), \n",
    "                     path='specObj')\n",
    "len(specObj)"
   ]
  },
  {
   "cell_type": "markdown",
   "metadata": {},
   "source": [
    "This table has many columns - some that might be useful as *labels* or for filtering:\n",
    "\n",
    "* `CLASS` - the best guess of the type of object, can be \"STAR\", \"QSO\", or \"GALAXY\"\n",
    "* `Z` and `Z_ERR` - the estimated redshift and redshift error\n",
    "* `VDISP` - the stellar velocity dispersion (measured from line widths) from a galaxy spectrum\n",
    "* `SN_MEDIAN` - the signal to noise. might be useful if you want to first test on only high SN sources\n",
    "* `ELODIE_TEFF`, `ELODIE_LOGG`, `ELODIE_FEH` - for stars, the effective temperature, surface gravity, and metallicity measured from template spectra"
   ]
  },
  {
   "cell_type": "code",
   "execution_count": null,
   "metadata": {},
   "outputs": [],
   "source": [
    "print(specObj.colnames)"
   ]
  },
  {
   "cell_type": "markdown",
   "metadata": {},
   "source": [
    "**Example**: What are the possible spectral classes and how many spectra do we have of each?"
   ]
  },
  {
   "cell_type": "code",
   "execution_count": null,
   "metadata": {},
   "outputs": [],
   "source": [
    "spec_class = specObj['CLASS'].astype(str)\n",
    "spec_classes = np.unique(spec_class)\n",
    "for cls in spec_classes:\n",
    "    print(cls, (spec_class == cls).sum())"
   ]
  },
  {
   "cell_type": "markdown",
   "metadata": {},
   "source": [
    "**Example**: What are the redshift distributions of all objects classified as GALAXY or QSO?"
   ]
  },
  {
   "cell_type": "code",
   "execution_count": null,
   "metadata": {},
   "outputs": [],
   "source": [
    "bins = np.linspace(0, 5, 24)\n",
    "\n",
    "for cls in ['GALAXY', 'QSO']:\n",
    "    plt.hist(specObj['Z'][specObj['CLASS'] == cls], \n",
    "             bins=bins, label=cls, alpha=0.4)\n",
    "plt.legend(fontsize=20)\n",
    "plt.xlabel('redshift, $z$')"
   ]
  },
  {
   "cell_type": "markdown",
   "metadata": {},
   "source": [
    "## Photometric catalog data\n",
    "\n",
    "This table also has many columns - some that might be useful as *labels* or for filtering:\n",
    "\n",
    "* `PSFMAG` / `PSFMAGERR` - the PSF magnitudes in each of the 5 SDSS filters, $ugriz$\n",
    "* `EXTINCTION` - the extinction in each of the 5 filters"
   ]
  },
  {
   "cell_type": "code",
   "execution_count": null,
   "metadata": {},
   "outputs": [],
   "source": [
    "photoPos = Table.read(path.join(data_path, 'sdss', 'photoPosPlate-merged.hdf5'), \n",
    "                      path='photoPosPlate')"
   ]
  },
  {
   "cell_type": "code",
   "execution_count": null,
   "metadata": {},
   "outputs": [],
   "source": [
    "print(photoPos.colnames)"
   ]
  },
  {
   "cell_type": "markdown",
   "metadata": {},
   "source": [
    "This column has 5 elements per source, one magnitude for each of $ugriz$:"
   ]
  },
  {
   "cell_type": "code",
   "execution_count": null,
   "metadata": {},
   "outputs": [],
   "source": [
    "photoPos['PSFMAG'].shape"
   ]
  },
  {
   "cell_type": "markdown",
   "metadata": {},
   "source": [
    "**Example**: Let's plot the g-r, r-i colors of all of our sources for each of the spectroscopic classes:"
   ]
  },
  {
   "cell_type": "code",
   "execution_count": null,
   "metadata": {
    "collapsed": true
   },
   "outputs": [],
   "source": [
    "g_r = photoPos['PSFMAG'][:,1] - photoPos['PSFMAG'][:,2]\n",
    "r_i = photoPos['PSFMAG'][:,2] - photoPos['PSFMAG'][:,3]"
   ]
  },
  {
   "cell_type": "code",
   "execution_count": null,
   "metadata": {},
   "outputs": [],
   "source": [
    "fig, axes = plt.subplots(1, len(spec_classes), figsize=(12.5,5), \n",
    "                         sharex=True, sharey=True)\n",
    "\n",
    "for i, cls in enumerate(spec_classes):\n",
    "    axes[i].plot(g_r[spec_class == cls], r_i[spec_class == cls], \n",
    "                 marker='.', linestyle='none', alpha=0.1)\n",
    "    axes[i].set_title(cls)\n",
    "    axes[i].set_xlabel('$g-r$ [mag]')\n",
    "\n",
    "axes[0].set_xlim(-0.5, 2.5)\n",
    "axes[0].set_ylim(-1, 2)\n",
    "\n",
    "axes[0].set_ylabel('$r-i$ [mag]')\n",
    "\n",
    "fig.tight_layout()"
   ]
  },
  {
   "cell_type": "markdown",
   "metadata": {},
   "source": [
    "**Example**: Select all spectra that meet some photometric cuts\n",
    "\n",
    "We'll define a color cut in $g-r$, $r-i$ colors and co-add all spectra in that box that are also stars:"
   ]
  },
  {
   "cell_type": "code",
   "execution_count": null,
   "metadata": {},
   "outputs": [],
   "source": [
    "color_cut = (g_r > 0.45) & (g_r < 0.55) & (r_i > 0.) & (r_i < 0.4)\n",
    "print(\"{0} objects pass this cut\".format(color_cut.sum()))"
   ]
  },
  {
   "cell_type": "code",
   "execution_count": null,
   "metadata": {},
   "outputs": [],
   "source": [
    "fig, ax = plt.subplots(1, 1, figsize=(5,5))\n",
    "\n",
    "ax.plot(g_r[spec_class == 'STAR'], r_i[spec_class == 'STAR'], \n",
    "        marker='.', linestyle='none', alpha=0.25, color='#aaaaaa')\n",
    "\n",
    "ax.plot(g_r[(spec_class == 'STAR') & color_cut], \n",
    "        r_i[(spec_class == 'STAR') & color_cut], \n",
    "        marker='.', linestyle='none', alpha=0.5)\n",
    "\n",
    "ax.set_xlim(-0.5, 2.5)\n",
    "ax.set_ylim(-1, 2)\n",
    "\n",
    "ax.set_xlabel('$g-r$ [mag]')\n",
    "ax.set_ylabel('$r-i$ [mag]')"
   ]
  },
  {
   "cell_type": "markdown",
   "metadata": {},
   "source": [
    "Now we'll load the spectra for those objects:"
   ]
  },
  {
   "cell_type": "code",
   "execution_count": null,
   "metadata": {
    "collapsed": true
   },
   "outputs": [],
   "source": [
    "with h5py.File(path.join(data_path, 'sdss', 'spPlate-merged.hdf5')) as f:\n",
    "    wave = f['wave'][:]\n",
    "    color_cut_flux = f['flux'][color_cut, :]\n",
    "    color_cut_ivar = f['ivar'][color_cut, :]"
   ]
  },
  {
   "cell_type": "code",
   "execution_count": null,
   "metadata": {
    "collapsed": true
   },
   "outputs": [],
   "source": [
    "color_cut_coadd = np.sum(color_cut_flux, axis=0)"
   ]
  },
  {
   "cell_type": "code",
   "execution_count": null,
   "metadata": {},
   "outputs": [],
   "source": [
    "plt.figure(figsize=(12,6))\n",
    "\n",
    "plt.plot(wave, color_cut_coadd, marker='None', linewidth=1,\n",
    "         linestyle='-', drawstyle='steps-mid')\n",
    "\n",
    "plt.xlim(wave.min(), wave.max())\n",
    "plt.xlabel(r'wavelength [${\\rm \\AA}$]')"
   ]
  }
 ],
 "metadata": {
  "kernelspec": {
   "display_name": "Python [default]",
   "language": "python",
   "name": "python3"
  },
  "language_info": {
   "codemirror_mode": {
    "name": "ipython",
    "version": 3
   },
   "file_extension": ".py",
   "mimetype": "text/x-python",
   "name": "python",
   "nbconvert_exporter": "python",
   "pygments_lexer": "ipython3",
   "version": "3.5.2"
  }
 },
 "nbformat": 4,
 "nbformat_minor": 2
}
