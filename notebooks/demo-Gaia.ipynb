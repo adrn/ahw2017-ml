{
 "cells": [
  {
   "cell_type": "markdown",
   "metadata": {},
   "source": [
    "# Gaia TGAS + 2MASS + WISE\n",
    "\n",
    "The provided Gaia dataset is a dump of the Gaia science archive's match between the astrometry in the Tycho-Gaia Astrometric Solution (TGAS) and photometric sources in 2MASS and WISE. The data contains all of the columns provided in the TGAS catalog ([described here](https://www.cosmos.esa.int/web/gaia/dr1)) along with photometric columns from the 2MASS and WISE catalogs. \n",
    "\n",
    "The 2MASS photometry is in the $J$, $H$, and $K_s$ bands, so the corresponding magnitude measurements are stored in the columns `j_m`, `h_m`, `ks_m`. The uncertainties for each magnitude balue are in the columns `j_msigcom`, `h_msigcom`, `ks_msigcom`.\n",
    "\n",
    "The WISE filters are named $W1$-$W4$, so the magnitudes and uncertainties are `w*mpro` and `w*mpro_error` with the `*` replaced by the filter number, 1-4."
   ]
  },
  {
   "cell_type": "code",
   "execution_count": null,
   "metadata": {
    "collapsed": true
   },
   "outputs": [],
   "source": [
    "from os import path\n",
    "import numpy as np\n",
    "\n",
    "import astropy.coordinates as coord\n",
    "import astropy.units as u\n",
    "from astropy.io import fits\n",
    "from astropy.table import Table\n",
    "import matplotlib.pyplot as plt\n",
    "plt.style.use('notebook.mplstyle')\n",
    "%matplotlib inline\n",
    "import numpy as np"
   ]
  },
  {
   "cell_type": "code",
   "execution_count": null,
   "metadata": {
    "collapsed": true
   },
   "outputs": [],
   "source": [
    "data_path = '../data/'"
   ]
  },
  {
   "cell_type": "markdown",
   "metadata": {},
   "source": [
    "# Reading the Gaia TGAS data\n",
    "\n",
    "The data are all stored in a single FITS binary table and can be read using the `astropy.table.Table` class:"
   ]
  },
  {
   "cell_type": "code",
   "execution_count": null,
   "metadata": {
    "collapsed": true
   },
   "outputs": [],
   "source": [
    "tgas = Table.read(path.join(data_path, 'gaia', 'tgas_2mass_wise.fits'))"
   ]
  },
  {
   "cell_type": "code",
   "execution_count": null,
   "metadata": {},
   "outputs": [],
   "source": [
    "print(tgas.colnames)"
   ]
  },
  {
   "cell_type": "markdown",
   "metadata": {},
   "source": [
    "---\n",
    "\n",
    "As an example of using the data, let's make two color-magnitude diagrams for all stars within 150 pc:"
   ]
  },
  {
   "cell_type": "code",
   "execution_count": null,
   "metadata": {},
   "outputs": [],
   "source": [
    "with u.set_enabled_equivalencies(u.parallax()):\n",
    "    dist = coord.Distance((tgas['parallax'] * u.mas).to(u.pc), \n",
    "                          allow_negative=True)\n",
    "    \n",
    "dist_cut = (dist < 150. * u.pc) & (dist > 0)"
   ]
  },
  {
   "cell_type": "markdown",
   "metadata": {},
   "source": [
    "Compute absolute magnitude using the distance to each star, and compute colors by differencing magnitudes:"
   ]
  },
  {
   "cell_type": "code",
   "execution_count": null,
   "metadata": {
    "collapsed": true
   },
   "outputs": [],
   "source": [
    "M_G = tgas['phot_g_mean_mag'][dist_cut] - dist[dist_cut].distmod.value\n",
    "G_J = tgas['phot_g_mean_mag'][dist_cut] - tgas[dist_cut]['j_m']\n",
    "G_W1 = tgas['phot_g_mean_mag'][dist_cut] - tgas[dist_cut]['w1mpro']"
   ]
  },
  {
   "cell_type": "code",
   "execution_count": null,
   "metadata": {},
   "outputs": [],
   "source": [
    "fig,axes = plt.subplots(1, 2, figsize=(12, 6), sharey=True)\n",
    "axes[0].plot(G_J, M_G, marker=',', linestyle='none')\n",
    "axes[1].plot(G_W1, M_G, marker=',', linestyle='none')\n",
    "\n",
    "axes[0].set_xlim(-0.25, 2.5)\n",
    "axes[0].set_ylim(9, -1)\n",
    "\n",
    "axes[1].set_xlim(-0.25, 3.5)\n",
    "\n",
    "axes[0].set_xlabel('$G-J$ [mag]')\n",
    "axes[1].set_xlabel('$G-W1$ [mag]')\n",
    "axes[0].set_ylabel('$M_G$ [mag]')"
   ]
  }
 ],
 "metadata": {
  "kernelspec": {
   "display_name": "Python [default]",
   "language": "python",
   "name": "python3"
  },
  "language_info": {
   "codemirror_mode": {
    "name": "ipython",
    "version": 3
   },
   "file_extension": ".py",
   "mimetype": "text/x-python",
   "name": "python",
   "nbconvert_exporter": "python",
   "pygments_lexer": "ipython3",
   "version": "3.5.2"
  }
 },
 "nbformat": 4,
 "nbformat_minor": 2
}
